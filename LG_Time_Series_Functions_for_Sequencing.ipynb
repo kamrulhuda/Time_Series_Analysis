{
  "nbformat": 4,
  "nbformat_minor": 0,
  "metadata": {
    "colab": {
      "name": "Time Series Functions for Sequencing.ipynb",
      "provenance": [],
      "collapsed_sections": [],
      "include_colab_link": true
    },
    "kernelspec": {
      "name": "python3",
      "display_name": "Python 3"
    },
    "accelerator": "GPU"
  },
  "cells": [
    {
      "cell_type": "markdown",
      "metadata": {
        "id": "view-in-github",
        "colab_type": "text"
      },
      "source": [
        "<a href=\"https://colab.research.google.com/github/kamrulhuda/Time_Series_Analysis/blob/main/LG_Time_Series_Functions_for_Sequencing.ipynb\" target=\"_parent\"><img src=\"https://colab.research.google.com/assets/colab-badge.svg\" alt=\"Open In Colab\"/></a>"
      ]
    },
    {
      "cell_type": "code",
      "metadata": {
        "id": "SMbMFqrjV6QC",
        "colab": {
          "base_uri": "https://localhost:8080/"
        },
        "outputId": "6ffeff7e-88ae-4cfd-b5c2-2c06549ce76c"
      },
      "source": [
        "!wget https://www.tensorflow.org/tutorials/structured_data/images/raw_window_1h.png\n",
        "!wget https://www.tensorflow.org/tutorials/structured_data/images/raw_window_24h.png\n",
        "!wget https://www.tensorflow.org/tutorials/structured_data/images/split_window.png"
      ],
      "execution_count": 4,
      "outputs": [
        {
          "output_type": "stream",
          "text": [
            "--2021-05-27 17:17:15--  https://www.tensorflow.org/tutorials/structured_data/images/raw_window_1h.png\n",
            "Resolving www.tensorflow.org (www.tensorflow.org)... 142.250.128.102, 142.250.128.138, 142.250.128.139, ...\n",
            "Connecting to www.tensorflow.org (www.tensorflow.org)|142.250.128.102|:443... connected.\n",
            "HTTP request sent, awaiting response... 200 OK\n",
            "Length: 7534 (7.4K) [image/png]\n",
            "Saving to: ‘raw_window_1h.png’\n",
            "\n",
            "\rraw_window_1h.png     0%[                    ]       0  --.-KB/s               \rraw_window_1h.png   100%[===================>]   7.36K  --.-KB/s    in 0s      \n",
            "\n",
            "2021-05-27 17:17:16 (69.5 MB/s) - ‘raw_window_1h.png’ saved [7534/7534]\n",
            "\n",
            "--2021-05-27 17:17:16--  https://www.tensorflow.org/tutorials/structured_data/images/raw_window_24h.png\n",
            "Resolving www.tensorflow.org (www.tensorflow.org)... 142.250.148.100, 142.250.148.102, 142.250.148.139, ...\n",
            "Connecting to www.tensorflow.org (www.tensorflow.org)|142.250.148.100|:443... connected.\n",
            "HTTP request sent, awaiting response... 200 OK\n",
            "Length: 9301 (9.1K) [image/png]\n",
            "Saving to: ‘raw_window_24h.png’\n",
            "\n",
            "raw_window_24h.png  100%[===================>]   9.08K  --.-KB/s    in 0s      \n",
            "\n",
            "2021-05-27 17:17:16 (48.9 MB/s) - ‘raw_window_24h.png’ saved [9301/9301]\n",
            "\n",
            "--2021-05-27 17:17:16--  https://www.tensorflow.org/tutorials/structured_data/images/split_window.png\n",
            "Resolving www.tensorflow.org (www.tensorflow.org)... 142.250.128.101, 142.250.128.113, 142.250.128.139, ...\n",
            "Connecting to www.tensorflow.org (www.tensorflow.org)|142.250.128.101|:443... connected.\n",
            "HTTP request sent, awaiting response... 200 OK\n",
            "Length: 11542 (11K) [image/png]\n",
            "Saving to: ‘split_window.png’\n",
            "\n",
            "split_window.png    100%[===================>]  11.27K  --.-KB/s    in 0s      \n",
            "\n",
            "2021-05-27 17:17:16 (59.7 MB/s) - ‘split_window.png’ saved [11542/11542]\n",
            "\n"
          ],
          "name": "stdout"
        }
      ]
    },
    {
      "cell_type": "code",
      "metadata": {
        "id": "_GY3HgVB7T8D",
        "colab": {
          "base_uri": "https://localhost:8080/"
        },
        "outputId": "30a0b33c-2077-487a-8ecc-3827017f29cc"
      },
      "source": [
        "!pip install pymatreader\n",
        "import pandas as pd\n",
        "import matplotlib as mpl\n",
        "import matplotlib.pyplot as plt\n",
        "from keras.preprocessing.sequence import TimeseriesGenerator\n",
        "from IPython.display import Image, display\n",
        "from pymatreader import read_mat\n",
        "import os\n",
        "import pandas as pd\n",
        "import plotly.figure_factory as ff\n",
        "import plotly.express as px\n",
        "#import plotlyhttp://localhost:8889/notebooks/Panasonic_18650_Data_analysis.ipynb#\n",
        "import numpy as np\n",
        "import csv\n",
        "import numpy as np \n",
        "import pandas as pd\n",
        "from scipy.io import loadmat\n",
        "from sklearn.preprocessing import PolynomialFeatures \n",
        "\n",
        "mpl.rcParams['figure.figsize'] = (10, 8)\n",
        "mpl.rcParams['axes.grid'] = False"
      ],
      "execution_count": 5,
      "outputs": [
        {
          "output_type": "stream",
          "text": [
            "Collecting pymatreader\n",
            "  Downloading https://files.pythonhosted.org/packages/2f/aa/62a7a27b66be1e7ca0621a5bb71edd3410f3fb1b58bcbe5c92d9caa9279c/pymatreader-0.0.24.tar.gz\n",
            "Requirement already satisfied: h5py in /usr/local/lib/python3.7/dist-packages (from pymatreader) (3.1.0)\n",
            "Requirement already satisfied: scipy in /usr/local/lib/python3.7/dist-packages (from pymatreader) (1.4.1)\n",
            "Requirement already satisfied: numpy in /usr/local/lib/python3.7/dist-packages (from pymatreader) (1.19.5)\n",
            "Collecting xmltodict\n",
            "  Downloading https://files.pythonhosted.org/packages/28/fd/30d5c1d3ac29ce229f6bdc40bbc20b28f716e8b363140c26eff19122d8a5/xmltodict-0.12.0-py2.py3-none-any.whl\n",
            "Requirement already satisfied: future in /usr/local/lib/python3.7/dist-packages (from pymatreader) (0.16.0)\n",
            "Requirement already satisfied: cached-property; python_version < \"3.8\" in /usr/local/lib/python3.7/dist-packages (from h5py->pymatreader) (1.5.2)\n",
            "Building wheels for collected packages: pymatreader\n",
            "  Building wheel for pymatreader (setup.py) ... \u001b[?25l\u001b[?25hdone\n",
            "  Created wheel for pymatreader: filename=pymatreader-0.0.24-cp37-none-any.whl size=8598 sha256=14296ae56df504e832b33fd94846e3d12fe0bc2554ff8b10ac91bbc5250b386f\n",
            "  Stored in directory: /root/.cache/pip/wheels/9b/0f/ca/b25bef5f38f5b6b4c36438f6225961d393b51a02db087fc8b1\n",
            "Successfully built pymatreader\n",
            "Installing collected packages: xmltodict, pymatreader\n",
            "Successfully installed pymatreader-0.0.24 xmltodict-0.12.0\n"
          ],
          "name": "stdout"
        }
      ]
    },
    {
      "cell_type": "code",
      "metadata": {
        "id": "lmNbWyCJ7n0a",
        "colab": {
          "resources": {
            "http://localhost:8080/nbextensions/google.colab/files.js": {
              "data": "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",
              "ok": true,
              "headers": [
                [
                  "content-type",
                  "application/javascript"
                ]
              ],
              "status": 200,
              "status_text": ""
            }
          },
          "base_uri": "https://localhost:8080/",
          "height": 39
        },
        "outputId": "33df5011-45d2-4101-8610-4d059d46ac86"
      },
      "source": [
        "from google.colab import files\n",
        "uploaded = files.upload()\n",
        "\n",
        "\n"
      ],
      "execution_count": null,
      "outputs": [
        {
          "output_type": "display_data",
          "data": {
            "text/html": [
              "\n",
              "     <input type=\"file\" id=\"files-eddcc884-f30f-42a2-b1df-6a2280a3014a\" name=\"files[]\" multiple disabled\n",
              "        style=\"border:none\" />\n",
              "     <output id=\"result-eddcc884-f30f-42a2-b1df-6a2280a3014a\">\n",
              "      Upload widget is only available when the cell has been executed in the\n",
              "      current browser session. Please rerun this cell to enable.\n",
              "      </output>\n",
              "      <script src=\"/nbextensions/google.colab/files.js\"></script> "
            ],
            "text/plain": [
              "<IPython.core.display.HTML object>"
            ]
          },
          "metadata": {
            "tags": []
          }
        }
      ]
    },
    {
      "cell_type": "code",
      "metadata": {
        "id": "4MZJsxPq76CN"
      },
      "source": [
        "Charge6 = read_mat('10-29-18_11.15 551_Charge6.mat')\n",
        "Charge6_df= pd.DataFrame(Charge6['meas'])\n",
        "\n",
        "SOC=[]\n",
        "for i in Charge6_df.index:\n",
        "   x= 1 - Charge6_df['Ah'].values[-i]/3\n",
        "   SOC.append(x)\n",
        "#print(SOC)\n",
        "Charge6_df['SOC']= SOC"
      ],
      "execution_count": 64,
      "outputs": []
    },
    {
      "cell_type": "code",
      "metadata": {
        "id": "XeGCgktBsVHw"
      },
      "source": [
        "#Creating the Dataframe for Mixed 1 drive cycle\n",
        "Mixed1_25degC = read_mat('10-29-18_14.41 551_Mixed1_25degC_LGHG2.mat')\n",
        "Mixed1_25degC_df= pd.DataFrame(Mixed1_25degC['meas'])\n",
        "\n",
        "#Calculating SOC: In case of Discahrge test, initial SOC is 100%\n",
        "Mixed1_25degC_df['SOC']= 1+ (Mixed1_25degC_df['Ah']/3)"
      ],
      "execution_count": null,
      "outputs": []
    },
    {
      "cell_type": "code",
      "metadata": {
        "id": "iflNWcAisYKT"
      },
      "source": [
        "#Creating the Dataframe for Charge 7 cycle\n",
        "Charge7 = read_mat('10-29-18_16.50 551_Charge7.mat')\n",
        "Charge7_df= pd.DataFrame(Charge6['meas'])\n",
        "\n",
        "\n",
        "#Calculating SOC: In case of cahrge test, final SOC is 100%\n",
        "SOC=[]\n",
        "for i in Charge7_df.index:\n",
        "   x= 1 - Charge7_df['Ah'].values[-i]/3\n",
        "   SOC.append(x)\n",
        "#print(SOC)\n",
        "Charge7_df['SOC']= SOC"
      ],
      "execution_count": null,
      "outputs": []
    },
    {
      "cell_type": "code",
      "metadata": {
        "id": "d5P2kFQBscel"
      },
      "source": [
        "#Creating the Dataframe for Mixed 1 drive cycle\n",
        "Mixed2_25degC = read_mat('10-29-18_20.16 551_Mixed2_25degC_LGHG2.mat')\n",
        "Mixed2_25degC_df= pd.DataFrame(Mixed2_25degC['meas'])\n",
        "\n",
        "#Resampling to 1 HZ\n",
        "#Mixed2_25degC_df ['TimeStamp'] = pd.to_datetime(Mixed2_25degC_df['TimeStamp'])\n",
        "#Mixed2_25degC_df.groupby(['Ah']).resample('1000L',on='TimeStamp').mean()\n",
        "\n",
        "#Calculating SOC: In case of Discahrge test, initial SOC is 100%\n",
        "Mixed2_25degC_df['SOC']= 1+(Mixed2_25degC_df['Ah']/3)"
      ],
      "execution_count": null,
      "outputs": []
    },
    {
      "cell_type": "code",
      "metadata": {
        "id": "-mhQWkTCsf4d"
      },
      "source": [
        "train_data= [Charge6_df,Mixed1_25degC_df,Charge7_df,Mixed2_25degC_df]\n",
        "train_data=pd.concat(train_data)\n",
        "train_data['TimeStamp']= pd.to_datetime(train_data['TimeStamp'],infer_datetime_format=True)"
      ],
      "execution_count": null,
      "outputs": []
    },
    {
      "cell_type": "code",
      "metadata": {
        "colab": {
          "base_uri": "https://localhost:8080/",
          "height": 415
        },
        "id": "8Yq_2XsXtCzG",
        "outputId": "714a41be-98f6-4b07-9a9c-85c136ea9d0e"
      },
      "source": [
        "train_data"
      ],
      "execution_count": 66,
      "outputs": [
        {
          "output_type": "execute_result",
          "data": {
            "text/html": [
              "<div>\n",
              "<style scoped>\n",
              "    .dataframe tbody tr th:only-of-type {\n",
              "        vertical-align: middle;\n",
              "    }\n",
              "\n",
              "    .dataframe tbody tr th {\n",
              "        vertical-align: top;\n",
              "    }\n",
              "\n",
              "    .dataframe thead th {\n",
              "        text-align: right;\n",
              "    }\n",
              "</style>\n",
              "<table border=\"1\" class=\"dataframe\">\n",
              "  <thead>\n",
              "    <tr style=\"text-align: right;\">\n",
              "      <th></th>\n",
              "      <th>Time</th>\n",
              "      <th>TimeStamp</th>\n",
              "      <th>Voltage</th>\n",
              "      <th>Current</th>\n",
              "      <th>Ah</th>\n",
              "      <th>Wh</th>\n",
              "      <th>Power</th>\n",
              "      <th>Battery_Temp_degC</th>\n",
              "      <th>SOC</th>\n",
              "    </tr>\n",
              "  </thead>\n",
              "  <tbody>\n",
              "    <tr>\n",
              "      <th>0</th>\n",
              "      <td>0.000000</td>\n",
              "      <td>2018-10-29 11:15:57</td>\n",
              "      <td>3.22633</td>\n",
              "      <td>0.0</td>\n",
              "      <td>0.00000</td>\n",
              "      <td>6</td>\n",
              "      <td>0.0</td>\n",
              "      <td>24.08130</td>\n",
              "      <td>1.000000</td>\n",
              "    </tr>\n",
              "    <tr>\n",
              "      <th>1</th>\n",
              "      <td>59.997995</td>\n",
              "      <td>2018-10-29 11:16:57</td>\n",
              "      <td>3.22734</td>\n",
              "      <td>0.0</td>\n",
              "      <td>0.00000</td>\n",
              "      <td>6</td>\n",
              "      <td>0.0</td>\n",
              "      <td>23.87099</td>\n",
              "      <td>0.130327</td>\n",
              "    </tr>\n",
              "    <tr>\n",
              "      <th>2</th>\n",
              "      <td>119.998997</td>\n",
              "      <td>2018-10-29 11:17:57</td>\n",
              "      <td>3.22835</td>\n",
              "      <td>0.0</td>\n",
              "      <td>0.00000</td>\n",
              "      <td>6</td>\n",
              "      <td>0.0</td>\n",
              "      <td>23.87099</td>\n",
              "      <td>0.130327</td>\n",
              "    </tr>\n",
              "    <tr>\n",
              "      <th>3</th>\n",
              "      <td>179.997002</td>\n",
              "      <td>2018-10-29 11:18:57</td>\n",
              "      <td>3.22919</td>\n",
              "      <td>0.0</td>\n",
              "      <td>0.00000</td>\n",
              "      <td>6</td>\n",
              "      <td>0.0</td>\n",
              "      <td>23.87099</td>\n",
              "      <td>0.130327</td>\n",
              "    </tr>\n",
              "    <tr>\n",
              "      <th>4</th>\n",
              "      <td>239.999000</td>\n",
              "      <td>2018-10-29 11:19:57</td>\n",
              "      <td>3.23003</td>\n",
              "      <td>0.0</td>\n",
              "      <td>0.00000</td>\n",
              "      <td>6</td>\n",
              "      <td>0.0</td>\n",
              "      <td>23.87099</td>\n",
              "      <td>0.130327</td>\n",
              "    </tr>\n",
              "    <tr>\n",
              "      <th>...</th>\n",
              "      <td>...</td>\n",
              "      <td>...</td>\n",
              "      <td>...</td>\n",
              "      <td>...</td>\n",
              "      <td>...</td>\n",
              "      <td>...</td>\n",
              "      <td>...</td>\n",
              "      <td>...</td>\n",
              "      <td>...</td>\n",
              "    </tr>\n",
              "    <tr>\n",
              "      <th>79167</th>\n",
              "      <td>7916.623002</td>\n",
              "      <td>2018-10-29 22:28:12</td>\n",
              "      <td>3.21217</td>\n",
              "      <td>0.0</td>\n",
              "      <td>-2.59028</td>\n",
              "      <td>8</td>\n",
              "      <td>0.0</td>\n",
              "      <td>24.08130</td>\n",
              "      <td>0.136573</td>\n",
              "    </tr>\n",
              "    <tr>\n",
              "      <th>79168</th>\n",
              "      <td>7916.722006</td>\n",
              "      <td>2018-10-29 22:28:12</td>\n",
              "      <td>3.21217</td>\n",
              "      <td>0.0</td>\n",
              "      <td>-2.59028</td>\n",
              "      <td>8</td>\n",
              "      <td>0.0</td>\n",
              "      <td>24.08130</td>\n",
              "      <td>0.136573</td>\n",
              "    </tr>\n",
              "    <tr>\n",
              "      <th>79169</th>\n",
              "      <td>7916.822005</td>\n",
              "      <td>2018-10-29 22:28:12</td>\n",
              "      <td>3.21217</td>\n",
              "      <td>0.0</td>\n",
              "      <td>-2.59028</td>\n",
              "      <td>8</td>\n",
              "      <td>0.0</td>\n",
              "      <td>24.08130</td>\n",
              "      <td>0.136573</td>\n",
              "    </tr>\n",
              "    <tr>\n",
              "      <th>79170</th>\n",
              "      <td>7916.923001</td>\n",
              "      <td>2018-10-29 22:28:12</td>\n",
              "      <td>3.21217</td>\n",
              "      <td>0.0</td>\n",
              "      <td>-2.59028</td>\n",
              "      <td>8</td>\n",
              "      <td>0.0</td>\n",
              "      <td>24.08130</td>\n",
              "      <td>0.136573</td>\n",
              "    </tr>\n",
              "    <tr>\n",
              "      <th>79171</th>\n",
              "      <td>7916.923001</td>\n",
              "      <td>2018-10-29 22:28:12</td>\n",
              "      <td>3.21217</td>\n",
              "      <td>0.0</td>\n",
              "      <td>-2.59028</td>\n",
              "      <td>8</td>\n",
              "      <td>0.0</td>\n",
              "      <td>24.08130</td>\n",
              "      <td>0.136573</td>\n",
              "    </tr>\n",
              "  </tbody>\n",
              "</table>\n",
              "<p>156819 rows × 9 columns</p>\n",
              "</div>"
            ],
            "text/plain": [
              "              Time           TimeStamp  ...  Battery_Temp_degC       SOC\n",
              "0         0.000000 2018-10-29 11:15:57  ...           24.08130  1.000000\n",
              "1        59.997995 2018-10-29 11:16:57  ...           23.87099  0.130327\n",
              "2       119.998997 2018-10-29 11:17:57  ...           23.87099  0.130327\n",
              "3       179.997002 2018-10-29 11:18:57  ...           23.87099  0.130327\n",
              "4       239.999000 2018-10-29 11:19:57  ...           23.87099  0.130327\n",
              "...            ...                 ...  ...                ...       ...\n",
              "79167  7916.623002 2018-10-29 22:28:12  ...           24.08130  0.136573\n",
              "79168  7916.722006 2018-10-29 22:28:12  ...           24.08130  0.136573\n",
              "79169  7916.822005 2018-10-29 22:28:12  ...           24.08130  0.136573\n",
              "79170  7916.923001 2018-10-29 22:28:12  ...           24.08130  0.136573\n",
              "79171  7916.923001 2018-10-29 22:28:12  ...           24.08130  0.136573\n",
              "\n",
              "[156819 rows x 9 columns]"
            ]
          },
          "metadata": {
            "tags": []
          },
          "execution_count": 66
        }
      ]
    },
    {
      "cell_type": "code",
      "metadata": {
        "id": "ZoZI-S5t760x",
        "colab": {
          "base_uri": "https://localhost:8080/"
        },
        "outputId": "e3f2bb0c-bb5e-474f-e8ca-37004836995f"
      },
      "source": [
        "train_data.info()"
      ],
      "execution_count": 65,
      "outputs": [
        {
          "output_type": "stream",
          "text": [
            "<class 'pandas.core.frame.DataFrame'>\n",
            "Int64Index: 156819 entries, 0 to 79171\n",
            "Data columns (total 9 columns):\n",
            " #   Column             Non-Null Count   Dtype         \n",
            "---  ------             --------------   -----         \n",
            " 0   Time               156819 non-null  float64       \n",
            " 1   TimeStamp          156819 non-null  datetime64[ns]\n",
            " 2   Voltage            156819 non-null  float64       \n",
            " 3   Current            156819 non-null  float64       \n",
            " 4   Ah                 156819 non-null  float64       \n",
            " 5   Wh                 156819 non-null  uint8         \n",
            " 6   Power              156819 non-null  float64       \n",
            " 7   Battery_Temp_degC  156819 non-null  float64       \n",
            " 8   SOC                156819 non-null  float64       \n",
            "dtypes: datetime64[ns](1), float64(7), uint8(1)\n",
            "memory usage: 10.9 MB\n"
          ],
          "name": "stdout"
        }
      ]
    },
    {
      "cell_type": "code",
      "metadata": {
        "id": "ncOjFLiR0yiV",
        "colab": {
          "base_uri": "https://localhost:8080/",
          "height": 415
        },
        "outputId": "e7f55c68-7971-409f-c4e9-bc3c91280b76"
      },
      "source": [
        "train_data[['Time','TimeStamp', 'Voltage', 'Current','Battery_Temp_degC', 'Ah', 'SOC']]"
      ],
      "execution_count": 67,
      "outputs": [
        {
          "output_type": "execute_result",
          "data": {
            "text/html": [
              "<div>\n",
              "<style scoped>\n",
              "    .dataframe tbody tr th:only-of-type {\n",
              "        vertical-align: middle;\n",
              "    }\n",
              "\n",
              "    .dataframe tbody tr th {\n",
              "        vertical-align: top;\n",
              "    }\n",
              "\n",
              "    .dataframe thead th {\n",
              "        text-align: right;\n",
              "    }\n",
              "</style>\n",
              "<table border=\"1\" class=\"dataframe\">\n",
              "  <thead>\n",
              "    <tr style=\"text-align: right;\">\n",
              "      <th></th>\n",
              "      <th>Time</th>\n",
              "      <th>TimeStamp</th>\n",
              "      <th>Voltage</th>\n",
              "      <th>Current</th>\n",
              "      <th>Battery_Temp_degC</th>\n",
              "      <th>Ah</th>\n",
              "      <th>SOC</th>\n",
              "    </tr>\n",
              "  </thead>\n",
              "  <tbody>\n",
              "    <tr>\n",
              "      <th>0</th>\n",
              "      <td>0.000000</td>\n",
              "      <td>2018-10-29 11:15:57</td>\n",
              "      <td>3.22633</td>\n",
              "      <td>0.0</td>\n",
              "      <td>24.08130</td>\n",
              "      <td>0.00000</td>\n",
              "      <td>1.000000</td>\n",
              "    </tr>\n",
              "    <tr>\n",
              "      <th>1</th>\n",
              "      <td>59.997995</td>\n",
              "      <td>2018-10-29 11:16:57</td>\n",
              "      <td>3.22734</td>\n",
              "      <td>0.0</td>\n",
              "      <td>23.87099</td>\n",
              "      <td>0.00000</td>\n",
              "      <td>0.130327</td>\n",
              "    </tr>\n",
              "    <tr>\n",
              "      <th>2</th>\n",
              "      <td>119.998997</td>\n",
              "      <td>2018-10-29 11:17:57</td>\n",
              "      <td>3.22835</td>\n",
              "      <td>0.0</td>\n",
              "      <td>23.87099</td>\n",
              "      <td>0.00000</td>\n",
              "      <td>0.130327</td>\n",
              "    </tr>\n",
              "    <tr>\n",
              "      <th>3</th>\n",
              "      <td>179.997002</td>\n",
              "      <td>2018-10-29 11:18:57</td>\n",
              "      <td>3.22919</td>\n",
              "      <td>0.0</td>\n",
              "      <td>23.87099</td>\n",
              "      <td>0.00000</td>\n",
              "      <td>0.130327</td>\n",
              "    </tr>\n",
              "    <tr>\n",
              "      <th>4</th>\n",
              "      <td>239.999000</td>\n",
              "      <td>2018-10-29 11:19:57</td>\n",
              "      <td>3.23003</td>\n",
              "      <td>0.0</td>\n",
              "      <td>23.87099</td>\n",
              "      <td>0.00000</td>\n",
              "      <td>0.130327</td>\n",
              "    </tr>\n",
              "    <tr>\n",
              "      <th>...</th>\n",
              "      <td>...</td>\n",
              "      <td>...</td>\n",
              "      <td>...</td>\n",
              "      <td>...</td>\n",
              "      <td>...</td>\n",
              "      <td>...</td>\n",
              "      <td>...</td>\n",
              "    </tr>\n",
              "    <tr>\n",
              "      <th>79167</th>\n",
              "      <td>7916.623002</td>\n",
              "      <td>2018-10-29 22:28:12</td>\n",
              "      <td>3.21217</td>\n",
              "      <td>0.0</td>\n",
              "      <td>24.08130</td>\n",
              "      <td>-2.59028</td>\n",
              "      <td>0.136573</td>\n",
              "    </tr>\n",
              "    <tr>\n",
              "      <th>79168</th>\n",
              "      <td>7916.722006</td>\n",
              "      <td>2018-10-29 22:28:12</td>\n",
              "      <td>3.21217</td>\n",
              "      <td>0.0</td>\n",
              "      <td>24.08130</td>\n",
              "      <td>-2.59028</td>\n",
              "      <td>0.136573</td>\n",
              "    </tr>\n",
              "    <tr>\n",
              "      <th>79169</th>\n",
              "      <td>7916.822005</td>\n",
              "      <td>2018-10-29 22:28:12</td>\n",
              "      <td>3.21217</td>\n",
              "      <td>0.0</td>\n",
              "      <td>24.08130</td>\n",
              "      <td>-2.59028</td>\n",
              "      <td>0.136573</td>\n",
              "    </tr>\n",
              "    <tr>\n",
              "      <th>79170</th>\n",
              "      <td>7916.923001</td>\n",
              "      <td>2018-10-29 22:28:12</td>\n",
              "      <td>3.21217</td>\n",
              "      <td>0.0</td>\n",
              "      <td>24.08130</td>\n",
              "      <td>-2.59028</td>\n",
              "      <td>0.136573</td>\n",
              "    </tr>\n",
              "    <tr>\n",
              "      <th>79171</th>\n",
              "      <td>7916.923001</td>\n",
              "      <td>2018-10-29 22:28:12</td>\n",
              "      <td>3.21217</td>\n",
              "      <td>0.0</td>\n",
              "      <td>24.08130</td>\n",
              "      <td>-2.59028</td>\n",
              "      <td>0.136573</td>\n",
              "    </tr>\n",
              "  </tbody>\n",
              "</table>\n",
              "<p>156819 rows × 7 columns</p>\n",
              "</div>"
            ],
            "text/plain": [
              "              Time           TimeStamp  ...       Ah       SOC\n",
              "0         0.000000 2018-10-29 11:15:57  ...  0.00000  1.000000\n",
              "1        59.997995 2018-10-29 11:16:57  ...  0.00000  0.130327\n",
              "2       119.998997 2018-10-29 11:17:57  ...  0.00000  0.130327\n",
              "3       179.997002 2018-10-29 11:18:57  ...  0.00000  0.130327\n",
              "4       239.999000 2018-10-29 11:19:57  ...  0.00000  0.130327\n",
              "...            ...                 ...  ...      ...       ...\n",
              "79167  7916.623002 2018-10-29 22:28:12  ... -2.59028  0.136573\n",
              "79168  7916.722006 2018-10-29 22:28:12  ... -2.59028  0.136573\n",
              "79169  7916.822005 2018-10-29 22:28:12  ... -2.59028  0.136573\n",
              "79170  7916.923001 2018-10-29 22:28:12  ... -2.59028  0.136573\n",
              "79171  7916.923001 2018-10-29 22:28:12  ... -2.59028  0.136573\n",
              "\n",
              "[156819 rows x 7 columns]"
            ]
          },
          "metadata": {
            "tags": []
          },
          "execution_count": 67
        }
      ]
    },
    {
      "cell_type": "code",
      "metadata": {
        "id": "Nmbda9RhEQPJ",
        "colab": {
          "base_uri": "https://localhost:8080/",
          "height": 493
        },
        "outputId": "31e40e7e-f45d-4de8-9dbd-551411e59276"
      },
      "source": [
        "train_data.set_index('TimeStamp')['Voltage'].plot()"
      ],
      "execution_count": 68,
      "outputs": [
        {
          "output_type": "execute_result",
          "data": {
            "text/plain": [
              "<matplotlib.axes._subplots.AxesSubplot at 0x7efcecaf05d0>"
            ]
          },
          "metadata": {
            "tags": []
          },
          "execution_count": 68
        },
        {
          "output_type": "display_data",
          "data": {
            "image/png": "[encoded data removed]",
            "text/plain": [
              "<Figure size 720x576 with 1 Axes>"
            ]
          },
          "metadata": {
            "tags": [],
            "needs_background": "light"
          }
        }
      ]
    },
    {
      "cell_type": "code",
      "metadata": {
        "id": "1Ag5wZCs9ZFY",
        "colab": {
          "base_uri": "https://localhost:8080/",
          "height": 562
        },
        "outputId": "c999bcab-d846-4602-8d08-ac478bd60fbb"
      },
      "source": [
        "train_data.set_index('TimeStamp')[['SOC', 'Voltage', 'Current','Battery_Temp_degC']].plot(subplots=True)"
      ],
      "execution_count": 69,
      "outputs": [
        {
          "output_type": "execute_result",
          "data": {
            "text/plain": [
              "array([<matplotlib.axes._subplots.AxesSubplot object at 0x7efceb603590>,\n",
              "       <matplotlib.axes._subplots.AxesSubplot object at 0x7efcecad1550>,\n",
              "       <matplotlib.axes._subplots.AxesSubplot object at 0x7efcec5f9ed0>,\n",
              "       <matplotlib.axes._subplots.AxesSubplot object at 0x7efce5c7c990>],\n",
              "      dtype=object)"
            ]
          },
          "metadata": {
            "tags": []
          },
          "execution_count": 69
        },
        {
          "output_type": "display_data",
          "data": {
            "image/png": "[encoded data removed]",
            "text/plain": [
              "<Figure size 720x576 with 4 Axes>"
            ]
          },
          "metadata": {
            "tags": [],
            "needs_background": "light"
          }
        }
      ]
    },
    {
      "cell_type": "code",
      "metadata": {
        "id": "ayITicdCtyWr",
        "colab": {
          "base_uri": "https://localhost:8080/"
        },
        "outputId": "c3b360a2-2040-4e46-e2e9-932c5a4a00ae"
      },
      "source": [
        "train_data.count()"
      ],
      "execution_count": 70,
      "outputs": [
        {
          "output_type": "execute_result",
          "data": {
            "text/plain": [
              "Time                 156819\n",
              "TimeStamp            156819\n",
              "Voltage              156819\n",
              "Current              156819\n",
              "Ah                   156819\n",
              "Wh                   156819\n",
              "Power                156819\n",
              "Battery_Temp_degC    156819\n",
              "SOC                  156819\n",
              "dtype: int64"
            ]
          },
          "metadata": {
            "tags": []
          },
          "execution_count": 70
        }
      ]
    },
    {
      "cell_type": "code",
      "metadata": {
        "id": "G7iL_GfrOGwY"
      },
      "source": [
        "features=train_data[['SOC','Voltage', 'Current', 'Battery_Temp_degC']].to_numpy().tolist()\n",
        "target=train_data['SOC'].tolist()"
      ],
      "execution_count": 71,
      "outputs": []
    },
    {
      "cell_type": "code",
      "metadata": {
        "id": "65R4OCK2tO6u",
        "colab": {
          "base_uri": "https://localhost:8080/"
        },
        "outputId": "043a452c-0785-461f-c4b4-c50e3bbfd738"
      },
      "source": [
        "features[0:11]"
      ],
      "execution_count": 72,
      "outputs": [
        {
          "output_type": "execute_result",
          "data": {
            "text/plain": [
              "[[1.0, 3.22633, 0.0, 24.0813],\n",
              " [0.1303266666666666, 3.22734, 0.0, 23.87099],\n",
              " [0.1303266666666666, 3.22835, 0.0, 23.87099],\n",
              " [0.1303266666666666, 3.22919, 0.0, 23.87099],\n",
              " [0.1303266666666666, 3.23003, 0.0, 23.87099],\n",
              " [0.1303266666666666, 3.23071, 0.0, 23.87099],\n",
              " [0.1303266666666666, 3.23155, 0.0, 23.87099],\n",
              " [0.1303266666666666, 3.23222, 0.0, 23.76583],\n",
              " [0.1303266666666666, 3.2329, 0.0, 23.76583],\n",
              " [0.1303266666666666, 3.2334, 0.0, 23.87099],\n",
              " [0.1303266666666666, 3.23408, 0.0, 23.87099]]"
            ]
          },
          "metadata": {
            "tags": []
          },
          "execution_count": 72
        }
      ]
    },
    {
      "cell_type": "code",
      "metadata": {
        "id": "GO6RNMg-tiqY",
        "colab": {
          "base_uri": "https://localhost:8080/"
        },
        "outputId": "d96c69c0-a8c7-4eba-d574-695f93791ed9"
      },
      "source": [
        "target[0:11]"
      ],
      "execution_count": 73,
      "outputs": [
        {
          "output_type": "execute_result",
          "data": {
            "text/plain": [
              "[1.0,\n",
              " 0.1303266666666666,\n",
              " 0.1303266666666666,\n",
              " 0.1303266666666666,\n",
              " 0.1303266666666666,\n",
              " 0.1303266666666666,\n",
              " 0.1303266666666666,\n",
              " 0.1303266666666666,\n",
              " 0.1303266666666666,\n",
              " 0.1303266666666666,\n",
              " 0.1303266666666666]"
            ]
          },
          "metadata": {
            "tags": []
          },
          "execution_count": 73
        }
      ]
    },
    {
      "cell_type": "code",
      "metadata": {
        "id": "5_612h4SUoUA",
        "colab": {
          "base_uri": "https://localhost:8080/",
          "height": 104
        },
        "outputId": "9269b319-306d-41d1-8fcf-fef9807c6fa7"
      },
      "source": [
        "display(Image('raw_window_1h.png'))\n",
        "print(\"===========================================================================\")\n",
        "display(Image('split_window.png'))\n",
        "print(\"===========================================================================\")\n",
        "display(Image('raw_window_24h.png'))"
      ],
      "execution_count": 74,
      "outputs": [
        {
          "output_type": "display_data",
          "data": {
            "image/png": "raw_window_1h.png",
            "text/plain": [
              "<IPython.core.display.Image object>"
            ]
          },
          "metadata": {
            "tags": []
          }
        },
        {
          "output_type": "stream",
          "text": [
            "===========================================================================\n"
          ],
          "name": "stdout"
        },
        {
          "output_type": "display_data",
          "data": {
            "image/png": "split_window.png",
            "text/plain": [
              "<IPython.core.display.Image object>"
            ]
          },
          "metadata": {
            "tags": []
          }
        },
        {
          "output_type": "stream",
          "text": [
            "===========================================================================\n"
          ],
          "name": "stdout"
        },
        {
          "output_type": "display_data",
          "data": {
            "image/png": "raw_window_24h.png",
            "text/plain": [
              "<IPython.core.display.Image object>"
            ]
          },
          "metadata": {
            "tags": []
          }
        }
      ]
    },
    {
      "cell_type": "code",
      "metadata": {
        "id": "7gtaryK2rGaQ"
      },
      "source": [
        "ts_generator = TimeseriesGenerator(features, target, length=6, sampling_rate=1, batch_size=1)"
      ],
      "execution_count": 75,
      "outputs": []
    },
    {
      "cell_type": "code",
      "metadata": {
        "id": "gm-h1ADpwKq-",
        "colab": {
          "base_uri": "https://localhost:8080/"
        },
        "outputId": "1500fe28-d798-49d9-a5ab-0a9d05a498d8"
      },
      "source": [
        "ts_generator[0]"
      ],
      "execution_count": 76,
      "outputs": [
        {
          "output_type": "execute_result",
          "data": {
            "text/plain": [
              "(array([[[ 1.        ,  3.22633   ,  0.        , 24.0813    ],\n",
              "         [ 0.13032667,  3.22734   ,  0.        , 23.87099   ],\n",
              "         [ 0.13032667,  3.22835   ,  0.        , 23.87099   ],\n",
              "         [ 0.13032667,  3.22919   ,  0.        , 23.87099   ],\n",
              "         [ 0.13032667,  3.23003   ,  0.        , 23.87099   ],\n",
              "         [ 0.13032667,  3.23071   ,  0.        , 23.87099   ]]]),\n",
              " array([0.13032667]))"
            ]
          },
          "metadata": {
            "tags": []
          },
          "execution_count": 76
        }
      ]
    },
    {
      "cell_type": "code",
      "metadata": {
        "id": "tArHKnLksxxI",
        "colab": {
          "base_uri": "https://localhost:8080/"
        },
        "outputId": "6eacd7ee-3766-4bb6-ae5a-0daafbfd94a5"
      },
      "source": [
        "ts_generator[0][0][0].shape"
      ],
      "execution_count": 77,
      "outputs": [
        {
          "output_type": "execute_result",
          "data": {
            "text/plain": [
              "(6, 4)"
            ]
          },
          "metadata": {
            "tags": []
          },
          "execution_count": 77
        }
      ]
    },
    {
      "cell_type": "code",
      "metadata": {
        "id": "7GWPYMHa20sF",
        "colab": {
          "base_uri": "https://localhost:8080/"
        },
        "outputId": "2a884a0d-b897-400c-e491-0e9866ebbe32"
      },
      "source": [
        "ts_generator[1]"
      ],
      "execution_count": 78,
      "outputs": [
        {
          "output_type": "execute_result",
          "data": {
            "text/plain": [
              "(array([[[ 0.13032667,  3.22734   ,  0.        , 23.87099   ],\n",
              "         [ 0.13032667,  3.22835   ,  0.        , 23.87099   ],\n",
              "         [ 0.13032667,  3.22919   ,  0.        , 23.87099   ],\n",
              "         [ 0.13032667,  3.23003   ,  0.        , 23.87099   ],\n",
              "         [ 0.13032667,  3.23071   ,  0.        , 23.87099   ],\n",
              "         [ 0.13032667,  3.23155   ,  0.        , 23.87099   ]]]),\n",
              " array([0.13032667]))"
            ]
          },
          "metadata": {
            "tags": []
          },
          "execution_count": 78
        }
      ]
    },
    {
      "cell_type": "code",
      "metadata": {
        "id": "dMBW86Pn1_yq",
        "colab": {
          "base_uri": "https://localhost:8080/"
        },
        "outputId": "51fdab9e-e53a-493e-bc13-20c7c735ee6f"
      },
      "source": [
        "ts_generator[2]"
      ],
      "execution_count": 79,
      "outputs": [
        {
          "output_type": "execute_result",
          "data": {
            "text/plain": [
              "(array([[[ 0.13032667,  3.22835   ,  0.        , 23.87099   ],\n",
              "         [ 0.13032667,  3.22919   ,  0.        , 23.87099   ],\n",
              "         [ 0.13032667,  3.23003   ,  0.        , 23.87099   ],\n",
              "         [ 0.13032667,  3.23071   ,  0.        , 23.87099   ],\n",
              "         [ 0.13032667,  3.23155   ,  0.        , 23.87099   ],\n",
              "         [ 0.13032667,  3.23222   ,  0.        , 23.76583   ]]]),\n",
              " array([0.13032667]))"
            ]
          },
          "metadata": {
            "tags": []
          },
          "execution_count": 79
        }
      ]
    },
    {
      "cell_type": "code",
      "metadata": {
        "id": "LUrh59xOxdoQ",
        "colab": {
          "base_uri": "https://localhost:8080/"
        },
        "outputId": "74272716-7b21-468b-f412-2930fb0790e1"
      },
      "source": [
        "len(ts_generator)"
      ],
      "execution_count": 80,
      "outputs": [
        {
          "output_type": "execute_result",
          "data": {
            "text/plain": [
              "156813"
            ]
          },
          "metadata": {
            "tags": []
          },
          "execution_count": 80
        }
      ]
    },
    {
      "cell_type": "markdown",
      "metadata": {
        "id": "9VAZHhpf23_x"
      },
      "source": [
        "\n",
        "\n",
        "```\n",
        "Input - 1,2,3,4,5,6,7,8,9\n",
        "\n",
        "Sliding window (window size 3, stride 1) - 1,2,3    2,3,4   4,5,6\n",
        "\n",
        "Sliding window (window size 3, stride 2) - 1,2,3    3,4,5   7,8,9\n",
        "\n",
        "Tumbling window (Window size 3)   - 1,2,3   4,5,6   7,8,9\n",
        "\n",
        "\n",
        "```\n",
        "\n"
      ]
    },
    {
      "cell_type": "code",
      "metadata": {
        "id": "Jm6QipL9xrRN"
      },
      "source": [
        "ts_generator = TimeseriesGenerator(features, target, length=6, sampling_rate=1, batch_size=1, stride=2)"
      ],
      "execution_count": 81,
      "outputs": []
    },
    {
      "cell_type": "code",
      "metadata": {
        "id": "Cg1fvY9ux4OK",
        "colab": {
          "base_uri": "https://localhost:8080/"
        },
        "outputId": "73101004-0e71-4e79-c3a8-f5f973435485"
      },
      "source": [
        "len(ts_generator)"
      ],
      "execution_count": 82,
      "outputs": [
        {
          "output_type": "execute_result",
          "data": {
            "text/plain": [
              "78407"
            ]
          },
          "metadata": {
            "tags": []
          },
          "execution_count": 82
        }
      ]
    },
    {
      "cell_type": "code",
      "metadata": {
        "id": "9NFA9vJ4x59L",
        "colab": {
          "base_uri": "https://localhost:8080/"
        },
        "outputId": "51d4dac0-9702-41a7-e9a9-f4f56ed33a75"
      },
      "source": [
        "ts_generator[0]"
      ],
      "execution_count": 83,
      "outputs": [
        {
          "output_type": "execute_result",
          "data": {
            "text/plain": [
              "(array([[[ 1.        ,  3.22633   ,  0.        , 24.0813    ],\n",
              "         [ 0.13032667,  3.22734   ,  0.        , 23.87099   ],\n",
              "         [ 0.13032667,  3.22835   ,  0.        , 23.87099   ],\n",
              "         [ 0.13032667,  3.22919   ,  0.        , 23.87099   ],\n",
              "         [ 0.13032667,  3.23003   ,  0.        , 23.87099   ],\n",
              "         [ 0.13032667,  3.23071   ,  0.        , 23.87099   ]]]),\n",
              " array([0.13032667]))"
            ]
          },
          "metadata": {
            "tags": []
          },
          "execution_count": 83
        }
      ]
    },
    {
      "cell_type": "code",
      "metadata": {
        "id": "5sXQkfyJx_mx",
        "colab": {
          "base_uri": "https://localhost:8080/"
        },
        "outputId": "104c4d0d-a930-4ef7-ac5a-970d825498a6"
      },
      "source": [
        "ts_generator[1]"
      ],
      "execution_count": 84,
      "outputs": [
        {
          "output_type": "execute_result",
          "data": {
            "text/plain": [
              "(array([[[ 0.13032667,  3.22835   ,  0.        , 23.87099   ],\n",
              "         [ 0.13032667,  3.22919   ,  0.        , 23.87099   ],\n",
              "         [ 0.13032667,  3.23003   ,  0.        , 23.87099   ],\n",
              "         [ 0.13032667,  3.23071   ,  0.        , 23.87099   ],\n",
              "         [ 0.13032667,  3.23155   ,  0.        , 23.87099   ],\n",
              "         [ 0.13032667,  3.23222   ,  0.        , 23.76583   ]]]),\n",
              " array([0.13032667]))"
            ]
          },
          "metadata": {
            "tags": []
          },
          "execution_count": 84
        }
      ]
    },
    {
      "cell_type": "code",
      "metadata": {
        "id": "GbvM1xOXyDsS",
        "colab": {
          "base_uri": "https://localhost:8080/",
          "height": 415
        },
        "outputId": "fc253b17-9e38-4914-bd9f-c71cf14aa80b"
      },
      "source": [
        "pd.concat([train_data['SOC'],train_data['SOC'].shift(-1), train_data['SOC'].shift(-2)],axis=1)"
      ],
      "execution_count": 86,
      "outputs": [
        {
          "output_type": "execute_result",
          "data": {
            "text/html": [
              "<div>\n",
              "<style scoped>\n",
              "    .dataframe tbody tr th:only-of-type {\n",
              "        vertical-align: middle;\n",
              "    }\n",
              "\n",
              "    .dataframe tbody tr th {\n",
              "        vertical-align: top;\n",
              "    }\n",
              "\n",
              "    .dataframe thead th {\n",
              "        text-align: right;\n",
              "    }\n",
              "</style>\n",
              "<table border=\"1\" class=\"dataframe\">\n",
              "  <thead>\n",
              "    <tr style=\"text-align: right;\">\n",
              "      <th></th>\n",
              "      <th>SOC</th>\n",
              "      <th>SOC</th>\n",
              "      <th>SOC</th>\n",
              "    </tr>\n",
              "  </thead>\n",
              "  <tbody>\n",
              "    <tr>\n",
              "      <th>0</th>\n",
              "      <td>1.000000</td>\n",
              "      <td>0.130327</td>\n",
              "      <td>0.130327</td>\n",
              "    </tr>\n",
              "    <tr>\n",
              "      <th>1</th>\n",
              "      <td>0.130327</td>\n",
              "      <td>0.130327</td>\n",
              "      <td>0.130327</td>\n",
              "    </tr>\n",
              "    <tr>\n",
              "      <th>2</th>\n",
              "      <td>0.130327</td>\n",
              "      <td>0.130327</td>\n",
              "      <td>0.130327</td>\n",
              "    </tr>\n",
              "    <tr>\n",
              "      <th>3</th>\n",
              "      <td>0.130327</td>\n",
              "      <td>0.130327</td>\n",
              "      <td>0.130327</td>\n",
              "    </tr>\n",
              "    <tr>\n",
              "      <th>4</th>\n",
              "      <td>0.130327</td>\n",
              "      <td>0.130327</td>\n",
              "      <td>0.130327</td>\n",
              "    </tr>\n",
              "    <tr>\n",
              "      <th>...</th>\n",
              "      <td>...</td>\n",
              "      <td>...</td>\n",
              "      <td>...</td>\n",
              "    </tr>\n",
              "    <tr>\n",
              "      <th>79167</th>\n",
              "      <td>0.136573</td>\n",
              "      <td>0.136573</td>\n",
              "      <td>0.136573</td>\n",
              "    </tr>\n",
              "    <tr>\n",
              "      <th>79168</th>\n",
              "      <td>0.136573</td>\n",
              "      <td>0.136573</td>\n",
              "      <td>0.136573</td>\n",
              "    </tr>\n",
              "    <tr>\n",
              "      <th>79169</th>\n",
              "      <td>0.136573</td>\n",
              "      <td>0.136573</td>\n",
              "      <td>0.136573</td>\n",
              "    </tr>\n",
              "    <tr>\n",
              "      <th>79170</th>\n",
              "      <td>0.136573</td>\n",
              "      <td>0.136573</td>\n",
              "      <td>NaN</td>\n",
              "    </tr>\n",
              "    <tr>\n",
              "      <th>79171</th>\n",
              "      <td>0.136573</td>\n",
              "      <td>NaN</td>\n",
              "      <td>NaN</td>\n",
              "    </tr>\n",
              "  </tbody>\n",
              "</table>\n",
              "<p>156819 rows × 3 columns</p>\n",
              "</div>"
            ],
            "text/plain": [
              "            SOC       SOC       SOC\n",
              "0      1.000000  0.130327  0.130327\n",
              "1      0.130327  0.130327  0.130327\n",
              "2      0.130327  0.130327  0.130327\n",
              "3      0.130327  0.130327  0.130327\n",
              "4      0.130327  0.130327  0.130327\n",
              "...         ...       ...       ...\n",
              "79167  0.136573  0.136573  0.136573\n",
              "79168  0.136573  0.136573  0.136573\n",
              "79169  0.136573  0.136573  0.136573\n",
              "79170  0.136573  0.136573       NaN\n",
              "79171  0.136573       NaN       NaN\n",
              "\n",
              "[156819 rows x 3 columns]"
            ]
          },
          "metadata": {
            "tags": []
          },
          "execution_count": 86
        }
      ]
    },
    {
      "cell_type": "code",
      "metadata": {
        "id": "4x06yAMT8ezk"
      },
      "source": [
        "multi_target=pd.concat([train_data['SOC'],train_data['SOC'].shift(-1), train_data['SOC'].shift(-2)],axis=1).dropna().to_numpy().tolist()"
      ],
      "execution_count": 89,
      "outputs": []
    },
    {
      "cell_type": "code",
      "metadata": {
        "id": "j8R24p_d-jEo",
        "colab": {
          "base_uri": "https://localhost:8080/"
        },
        "outputId": "d8210c31-0d25-444a-981f-07ab8c693752"
      },
      "source": [
        "multi_target[0:13]"
      ],
      "execution_count": 90,
      "outputs": [
        {
          "output_type": "execute_result",
          "data": {
            "text/plain": [
              "[[1.0, 0.1303266666666666, 0.1303266666666666],\n",
              " [0.1303266666666666, 0.1303266666666666, 0.1303266666666666],\n",
              " [0.1303266666666666, 0.1303266666666666, 0.1303266666666666],\n",
              " [0.1303266666666666, 0.1303266666666666, 0.1303266666666666],\n",
              " [0.1303266666666666, 0.1303266666666666, 0.1303266666666666],\n",
              " [0.1303266666666666, 0.1303266666666666, 0.1303266666666666],\n",
              " [0.1303266666666666, 0.1303266666666666, 0.1303266666666666],\n",
              " [0.1303266666666666, 0.1303266666666666, 0.1303266666666666],\n",
              " [0.1303266666666666, 0.1303266666666666, 0.1303266666666666],\n",
              " [0.1303266666666666, 0.1303266666666666, 0.1303266666666666],\n",
              " [0.1303266666666666, 0.1303266666666666, 0.1303266666666666],\n",
              " [0.1303266666666666, 0.1303266666666666, 0.1303266666666666],\n",
              " [0.1303266666666666, 0.1303266666666666, 0.1303266666666666]]"
            ]
          },
          "metadata": {
            "tags": []
          },
          "execution_count": 90
        }
      ]
    },
    {
      "cell_type": "code",
      "metadata": {
        "id": "g6pM33TQ-Vvt"
      },
      "source": [
        "ts_generator = TimeseriesGenerator(features[:-2], multi_target, length=6, sampling_rate=1, batch_size=1, stride=6)"
      ],
      "execution_count": 91,
      "outputs": []
    },
    {
      "cell_type": "code",
      "metadata": {
        "id": "OgsW6-yD-uGo",
        "colab": {
          "base_uri": "https://localhost:8080/"
        },
        "outputId": "de40ffe3-2e01-4c8e-e01a-e2ce80769e20"
      },
      "source": [
        "ts_generator[0]"
      ],
      "execution_count": 92,
      "outputs": [
        {
          "output_type": "execute_result",
          "data": {
            "text/plain": [
              "(array([[[ 1.        ,  3.22633   ,  0.        , 24.0813    ],\n",
              "         [ 0.13032667,  3.22734   ,  0.        , 23.87099   ],\n",
              "         [ 0.13032667,  3.22835   ,  0.        , 23.87099   ],\n",
              "         [ 0.13032667,  3.22919   ,  0.        , 23.87099   ],\n",
              "         [ 0.13032667,  3.23003   ,  0.        , 23.87099   ],\n",
              "         [ 0.13032667,  3.23071   ,  0.        , 23.87099   ]]]),\n",
              " array([[0.13032667, 0.13032667, 0.13032667]]))"
            ]
          },
          "metadata": {
            "tags": []
          },
          "execution_count": 92
        }
      ]
    },
    {
      "cell_type": "code",
      "metadata": {
        "id": "ahjM0vkG-70i",
        "colab": {
          "base_uri": "https://localhost:8080/"
        },
        "outputId": "c6aea115-43a1-4a17-f2da-bc0c83feb275"
      },
      "source": [
        "ts_generator[1]"
      ],
      "execution_count": 93,
      "outputs": [
        {
          "output_type": "execute_result",
          "data": {
            "text/plain": [
              "(array([[[ 0.13032667,  3.23155   ,  0.        , 23.87099   ],\n",
              "         [ 0.13032667,  3.23222   ,  0.        , 23.76583   ],\n",
              "         [ 0.13032667,  3.2329    ,  0.        , 23.76583   ],\n",
              "         [ 0.13032667,  3.2334    ,  0.        , 23.87099   ],\n",
              "         [ 0.13032667,  3.23408   ,  0.        , 23.87099   ],\n",
              "         [ 0.13032667,  3.23458   ,  0.        , 23.87099   ]]]),\n",
              " array([[0.13032667, 0.13032667, 0.13032667]]))"
            ]
          },
          "metadata": {
            "tags": []
          },
          "execution_count": 93
        }
      ]
    },
    {
      "cell_type": "code",
      "metadata": {
        "id": "P_kdcdTC_CpA"
      },
      "source": [
        ""
      ],
      "execution_count": null,
      "outputs": []
    }
  ]
}