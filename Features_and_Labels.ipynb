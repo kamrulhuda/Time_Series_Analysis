{
  "nbformat": 4,
  "nbformat_minor": 0,
  "metadata": {
    "colab": {
      "name": " Features and Labels",
      "provenance": [],
      "authorship_tag": "ABX9TyO1QqAGheAW2PU3bdqE46Od",
      "include_colab_link": true
    },
    "kernelspec": {
      "name": "python3",
      "display_name": "Python 3"
    },
    "language_info": {
      "name": "python"
    }
  },
  "cells": [
    {
      "cell_type": "markdown",
      "metadata": {
        "id": "view-in-github",
        "colab_type": "text"
      },
      "source": [
        "<a href=\"https://colab.research.google.com/github/kamrulhuda/Time_Series_Analysis/blob/main/Features_and_Labels.ipynb\" target=\"_parent\"><img src=\"https://colab.research.google.com/assets/colab-badge.svg\" alt=\"Open In Colab\"/></a>"
      ]
    },
    {
      "cell_type": "code",
      "metadata": {
        "id": "iCRRy1aQE9M-"
      },
      "source": [
        "import tensorflow as tf\n",
        "import numpy as np\n",
        "import matplotlib.pyplot as plt"
      ],
      "execution_count": 2,
      "outputs": []
    },
    {
      "cell_type": "code",
      "metadata": {
        "colab": {
          "base_uri": "https://localhost:8080/"
        },
        "id": "EMScjskiFM41",
        "outputId": "7bc42cdb-67f8-48e7-9832-32c414c58289"
      },
      "source": [
        "dataset= tf.data.Dataset.range(20)\n",
        "for val in dataset:\n",
        "  print(val.numpy())"
      ],
      "execution_count": 3,
      "outputs": [
        {
          "output_type": "stream",
          "text": [
            "0\n",
            "1\n",
            "2\n",
            "3\n",
            "4\n",
            "5\n",
            "6\n",
            "7\n",
            "8\n",
            "9\n",
            "10\n",
            "11\n",
            "12\n",
            "13\n",
            "14\n",
            "15\n",
            "16\n",
            "17\n",
            "18\n",
            "19\n"
          ],
          "name": "stdout"
        }
      ]
    },
    {
      "cell_type": "code",
      "metadata": {
        "colab": {
          "base_uri": "https://localhost:8080/"
        },
        "id": "OBnmPOgiFayL",
        "outputId": "58edb4e9-935e-4e28-87c1-2ea0c0d7e6e8"
      },
      "source": [
        "dataset= tf.data.Dataset.range(20)\n",
        "dataset = dataset.window(3, shift=2, drop_remainder=False)\n",
        "for window_dataset in dataset:\n",
        "  for val in window_dataset:\n",
        "    print(val.numpy(), end= \" \")\n",
        "  print()"
      ],
      "execution_count": 4,
      "outputs": [
        {
          "output_type": "stream",
          "text": [
            "0 1 2 \n",
            "2 3 4 \n",
            "4 5 6 \n",
            "6 7 8 \n",
            "8 9 10 \n",
            "10 11 12 \n",
            "12 13 14 \n",
            "14 15 16 \n",
            "16 17 18 \n",
            "18 19 \n"
          ],
          "name": "stdout"
        }
      ]
    },
    {
      "cell_type": "code",
      "metadata": {
        "colab": {
          "base_uri": "https://localhost:8080/"
        },
        "id": "jnpNnH5QGUeE",
        "outputId": "bd647fe2-67d6-41f8-805e-9fbdada8bd4e"
      },
      "source": [
        "dataset= tf.data.Dataset.range(20)\n",
        "dataset = dataset.window(3, shift=5, drop_remainder=True)\n",
        "for window_dataset in dataset:\n",
        "  for val in window_dataset:\n",
        "    print(val.numpy(), end= \" \")\n",
        "  print()"
      ],
      "execution_count": 6,
      "outputs": [
        {
          "output_type": "stream",
          "text": [
            "0 1 2 \n",
            "5 6 7 \n",
            "10 11 12 \n",
            "15 16 17 \n"
          ],
          "name": "stdout"
        }
      ]
    },
    {
      "cell_type": "code",
      "metadata": {
        "colab": {
          "base_uri": "https://localhost:8080/"
        },
        "id": "z_bJ_boaGvMj",
        "outputId": "b3c9a766-e537-4018-d470-7dd3793acbd6"
      },
      "source": [
        "dataset= tf.data.Dataset.range(20)\n",
        "dataset = dataset.window(3, shift=2, drop_remainder=True)\n",
        "dataset= dataset.flat_map(lambda window:window.batch(5))\n",
        "for window in dataset:\n",
        "  print(window.numpy())"
      ],
      "execution_count": 9,
      "outputs": [
        {
          "output_type": "stream",
          "text": [
            "[0 1 2]\n",
            "[2 3 4]\n",
            "[4 5 6]\n",
            "[6 7 8]\n",
            "[ 8  9 10]\n",
            "[10 11 12]\n",
            "[12 13 14]\n",
            "[14 15 16]\n",
            "[16 17 18]\n"
          ],
          "name": "stdout"
        }
      ]
    },
    {
      "cell_type": "code",
      "metadata": {
        "colab": {
          "base_uri": "https://localhost:8080/"
        },
        "id": "jW-D9hPYHRkE",
        "outputId": "b2498f9b-c7c2-4422-ebfd-aec877caba24"
      },
      "source": [
        "dataset= tf.data.Dataset.range(20)\n",
        "dataset = dataset.window(3, shift=2, drop_remainder=True)\n",
        "dataset= dataset.flat_map(lambda window:window.batch(5))\n",
        "dataset= dataset.map(lambda window: (window[:-1], window[-1:]))\n",
        "for x,y in dataset:\n",
        "  print(x.numpy(), y.numpy())"
      ],
      "execution_count": 13,
      "outputs": [
        {
          "output_type": "stream",
          "text": [
            "[0 1] [2]\n",
            "[2 3] [4]\n",
            "[4 5] [6]\n",
            "[6 7] [8]\n",
            "[8 9] [10]\n",
            "[10 11] [12]\n",
            "[12 13] [14]\n",
            "[14 15] [16]\n",
            "[16 17] [18]\n"
          ],
          "name": "stdout"
        }
      ]
    },
    {
      "cell_type": "code",
      "metadata": {
        "colab": {
          "base_uri": "https://localhost:8080/"
        },
        "id": "_TbTN-XPH4em",
        "outputId": "f46e2bb1-4e40-4625-d40c-e9106b0215e6"
      },
      "source": [
        "dataset= tf.data.Dataset.range(20)\n",
        "dataset = dataset.window(3, shift=2, drop_remainder=True)\n",
        "dataset= dataset.flat_map(lambda window:window.batch(5))\n",
        "dataset= dataset.map(lambda window: (window[:-1], window[-1:]))\n",
        "dataset= dataset.shuffle(buffer_size=5)\n",
        "for x,y in dataset:\n",
        "  print(x.numpy(), y.numpy())"
      ],
      "execution_count": 17,
      "outputs": [
        {
          "output_type": "stream",
          "text": [
            "[4 5] [6]\n",
            "[0 1] [2]\n",
            "[6 7] [8]\n",
            "[10 11] [12]\n",
            "[12 13] [14]\n",
            "[2 3] [4]\n",
            "[14 15] [16]\n",
            "[8 9] [10]\n",
            "[16 17] [18]\n"
          ],
          "name": "stdout"
        }
      ]
    },
    {
      "cell_type": "code",
      "metadata": {
        "colab": {
          "base_uri": "https://localhost:8080/"
        },
        "id": "gnijPQIpIW7B",
        "outputId": "49c88061-c152-4fd4-9e1d-b776614074df"
      },
      "source": [
        "dataset= tf.data.Dataset.range(100)\n",
        "dataset = dataset.window(10, shift=5, drop_remainder=True)\n",
        "dataset= dataset.flat_map(lambda window:window.batch(5))\n",
        "dataset= dataset.map(lambda window: (window[:-1], window[-1:]))\n",
        "dataset= dataset.shuffle(buffer_size=5)\n",
        "dataset= dataset.batch(20).prefetch(1)\n",
        "for x,y in dataset:\n",
        "  print(\"X= \" ,x.numpy() )\n",
        "  print(\"Y= \" ,y.numpy() )"
      ],
      "execution_count": 7,
      "outputs": [
        {
          "output_type": "stream",
          "text": [
            "X=  [[ 5  6  7  8]\n",
            " [10 11 12 13]\n",
            " [ 5  6  7  8]\n",
            " [20 21 22 23]\n",
            " [20 21 22 23]\n",
            " [10 11 12 13]\n",
            " [25 26 27 28]\n",
            " [25 26 27 28]\n",
            " [15 16 17 18]\n",
            " [35 36 37 38]\n",
            " [30 31 32 33]\n",
            " [30 31 32 33]\n",
            " [40 41 42 43]\n",
            " [40 41 42 43]\n",
            " [45 46 47 48]\n",
            " [35 36 37 38]\n",
            " [50 51 52 53]\n",
            " [45 46 47 48]\n",
            " [ 0  1  2  3]\n",
            " [60 61 62 63]]\n",
            "Y=  [[ 9]\n",
            " [14]\n",
            " [ 9]\n",
            " [24]\n",
            " [24]\n",
            " [14]\n",
            " [29]\n",
            " [29]\n",
            " [19]\n",
            " [39]\n",
            " [34]\n",
            " [34]\n",
            " [44]\n",
            " [44]\n",
            " [49]\n",
            " [39]\n",
            " [54]\n",
            " [49]\n",
            " [ 4]\n",
            " [64]]\n",
            "X=  [[60 61 62 63]\n",
            " [50 51 52 53]\n",
            " [65 66 67 68]\n",
            " [55 56 57 58]\n",
            " [70 71 72 73]\n",
            " [55 56 57 58]\n",
            " [75 76 77 78]\n",
            " [80 81 82 83]\n",
            " [65 66 67 68]\n",
            " [70 71 72 73]\n",
            " [80 81 82 83]\n",
            " [15 16 17 18]\n",
            " [90 91 92 93]\n",
            " [90 91 92 93]\n",
            " [85 86 87 88]\n",
            " [95 96 97 98]\n",
            " [75 76 77 78]\n",
            " [85 86 87 88]]\n",
            "Y=  [[64]\n",
            " [54]\n",
            " [69]\n",
            " [59]\n",
            " [74]\n",
            " [59]\n",
            " [79]\n",
            " [84]\n",
            " [69]\n",
            " [74]\n",
            " [84]\n",
            " [19]\n",
            " [94]\n",
            " [94]\n",
            " [89]\n",
            " [99]\n",
            " [79]\n",
            " [89]]\n"
          ],
          "name": "stdout"
        }
      ]
    },
    {
      "cell_type": "code",
      "metadata": {
        "id": "qvgcjDnkI0T6"
      },
      "source": [
        ""
      ],
      "execution_count": null,
      "outputs": []
    }
  ]
}