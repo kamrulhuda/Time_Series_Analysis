{
  "nbformat": 4,
  "nbformat_minor": 0,
  "metadata": {
    "colab": {
      "name": "Time Series Auto ARIMA.ipynb",
      "provenance": [],
      "include_colab_link": true
    },
    "kernelspec": {
      "name": "python3",
      "display_name": "Python 3"
    },
    "accelerator": "GPU"
  },
  "cells": [
    {
      "cell_type": "markdown",
      "metadata": {
        "id": "view-in-github",
        "colab_type": "text"
      },
      "source": [
        "<a href=\"https://colab.research.google.com/github/kamrulhuda/Time_Series_Analysis/blob/main/LG_Time_Series_Auto_ARIMA.ipynb\" target=\"_parent\"><img src=\"https://colab.research.google.com/assets/colab-badge.svg\" alt=\"Open In Colab\"/></a>"
      ]
    },
    {
      "cell_type": "markdown",
      "metadata": {
        "id": "NTPg2Yd0U1jl"
      },
      "source": [
        "Link to video explaining the code below  https://www.youtube.com/watch?v=MngVV_4l9Po"
      ]
    },
    {
      "cell_type": "code",
      "metadata": {
        "id": "CY5G7SE9PLEB",
        "colab": {
          "base_uri": "https://localhost:8080/"
        },
        "outputId": "492dc6e3-4c8c-48dd-a152-acb4d907562c"
      },
      "source": [
        "!pip install pymatreader\n",
        "from pymatreader import read_mat\n",
        "import matplotlib as mpl\n",
        "import matplotlib.pyplot as plt\n",
        "import numpy as np\n",
        "import os\n",
        "from datetime import datetime\n",
        "import pandas as pd\n",
        "import plotly.express as px\n",
        "\n",
        "mpl.rcParams['figure.figsize'] = (10, 8)\n",
        "mpl.rcParams['axes.grid'] = False\n"
      ],
      "execution_count": 4,
      "outputs": [
        {
          "output_type": "stream",
          "text": [
            "Collecting pymatreader\n",
            "  Downloading https://files.pythonhosted.org/packages/2f/aa/62a7a27b66be1e7ca0621a5bb71edd3410f3fb1b58bcbe5c92d9caa9279c/pymatreader-0.0.24.tar.gz\n",
            "Requirement already satisfied: h5py in /usr/local/lib/python3.7/dist-packages (from pymatreader) (3.1.0)\n",
            "Requirement already satisfied: scipy in /usr/local/lib/python3.7/dist-packages (from pymatreader) (1.4.1)\n",
            "Requirement already satisfied: numpy in /usr/local/lib/python3.7/dist-packages (from pymatreader) (1.19.5)\n",
            "Collecting xmltodict\n",
            "  Downloading https://files.pythonhosted.org/packages/28/fd/30d5c1d3ac29ce229f6bdc40bbc20b28f716e8b363140c26eff19122d8a5/xmltodict-0.12.0-py2.py3-none-any.whl\n",
            "Requirement already satisfied: future in /usr/local/lib/python3.7/dist-packages (from pymatreader) (0.16.0)\n",
            "Requirement already satisfied: cached-property; python_version < \"3.8\" in /usr/local/lib/python3.7/dist-packages (from h5py->pymatreader) (1.5.2)\n",
            "Building wheels for collected packages: pymatreader\n",
            "  Building wheel for pymatreader (setup.py) ... \u001b[?25l\u001b[?25hdone\n",
            "  Created wheel for pymatreader: filename=pymatreader-0.0.24-cp37-none-any.whl size=8598 sha256=c97452fc1b3737f811ff48285b63dc578da12268b5522a92394c9ce038c3ae55\n",
            "  Stored in directory: /root/.cache/pip/wheels/9b/0f/ca/b25bef5f38f5b6b4c36438f6225961d393b51a02db087fc8b1\n",
            "Successfully built pymatreader\n",
            "Installing collected packages: xmltodict, pymatreader\n",
            "Successfully installed pymatreader-0.0.24 xmltodict-0.12.0\n"
          ],
          "name": "stdout"
        }
      ]
    },
    {
      "cell_type": "code",
      "metadata": {
        "id": "PJaoc_EcR1pB",
        "colab": {
          "resources": {
            "http://localhost:8080/nbextensions/google.colab/files.js": {
              "data": "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",
              "ok": true,
              "headers": [
                [
                  "content-type",
                  "application/javascript"
                ]
              ],
              "status": 200,
              "status_text": ""
            }
          },
          "base_uri": "https://localhost:8080/",
          "height": 767
        },
        "outputId": "28b52338-1b9d-4570-d1fa-18457c6f5086"
      },
      "source": [
        "from google.colab import files\n",
        "uploaded = files.upload()"
      ],
      "execution_count": 6,
      "outputs": [
        {
          "output_type": "display_data",
          "data": {
            "text/html": [
              "\n",
              "     <input type=\"file\" id=\"files-846070ce-227a-49e3-8a8f-fc91ef05ef4c\" name=\"files[]\" multiple disabled\n",
              "        style=\"border:none\" />\n",
              "     <output id=\"result-846070ce-227a-49e3-8a8f-fc91ef05ef4c\">\n",
              "      Upload widget is only available when the cell has been executed in the\n",
              "      current browser session. Please rerun this cell to enable.\n",
              "      </output>\n",
              "      <script src=\"/nbextensions/google.colab/files.js\"></script> "
            ],
            "text/plain": [
              "<IPython.core.display.HTML object>"
            ]
          },
          "metadata": {
            "tags": []
          }
        },
        {
          "output_type": "stream",
          "text": [
            "Saving 10-29-18_11.15 551_Charge6.mat to 10-29-18_11.15 551_Charge6.mat\n",
            "Saving 10-29-18_14.41 551_Mixed1_25degC_LGHG2.mat to 10-29-18_14.41 551_Mixed1_25degC_LGHG2.mat\n",
            "Saving 10-29-18_16.50 551_Charge7.mat to 10-29-18_16.50 551_Charge7.mat\n",
            "Saving 10-29-18_20.16 551_Mixed2_25degC_LGHG2.mat to 10-29-18_20.16 551_Mixed2_25degC_LGHG2.mat\n",
            "Saving 10-29-18_22.29 551_Charge8.mat to 10-29-18_22.29 551_Charge8.mat\n",
            "Saving 10-30-18_01.54 552_Cap_1C_25degC_LGHG2.mat to 10-30-18_01.54 552_Cap_1C_25degC_LGHG2.mat\n",
            "Saving 10-30-18_03.00 552_Charge9.mat to 10-30-18_03.00 552_Charge9.mat\n",
            "Saving 10-30-18_06.27 552_Mixed3_25degC_LGHG2.mat to 10-30-18_06.27 552_Mixed3_25degC_LGHG2.mat\n",
            "Saving 10-30-18_08.31 552_Charge10.mat to 10-30-18_08.31 552_Charge10.mat\n",
            "Saving 10-30-18_11.56 552_Mixed4_25degC_LGHG2.mat to 10-30-18_11.56 552_Mixed4_25degC_LGHG2.mat\n",
            "Saving 10-30-18_14.12 552_Charge11.mat to 10-30-18_14.12 552_Charge11.mat\n",
            "Saving 10-30-18_17.36 552_Mixed5_25degC_LGHG2.mat to 10-30-18_17.36 552_Mixed5_25degC_LGHG2.mat\n",
            "Saving 10-30-18_19.38 552_Charge12.mat to 10-30-18_19.38 552_Charge12.mat\n",
            "Saving 10-30-18_23.02 552_Mixed6_25degC_LGHG2.mat to 10-30-18_23.02 552_Mixed6_25degC_LGHG2.mat\n",
            "Saving 10-31-18_01.13 552_Charge13.mat to 10-31-18_01.13 552_Charge13.mat\n",
            "Saving 10-31-18_04.38 552_Mixed7_25degC_LGHG2.mat to 10-31-18_04.38 552_Mixed7_25degC_LGHG2.mat\n",
            "Saving 10-31-18_06.41 552_Charge14.mat to 10-31-18_06.41 552_Charge14.mat\n",
            "Saving 10-31-18_10.05 552_Mixed8_25degC_LGHG2.mat to 10-31-18_10.05 552_Mixed8_25degC_LGHG2.mat\n",
            "Saving 10-31-18_12.30 552_Charge15.mat to 10-31-18_12.30 552_Charge15.mat\n",
            "Saving 10-31-18_15.54 552_PausCycl_25degC_LGHG2.mat to 10-31-18_15.54 552_PausCycl_25degC_LGHG2.mat\n",
            "Saving 10-31-18_17.41 552_Charge16.mat to 10-31-18_17.41 552_Charge16.mat\n"
          ],
          "name": "stdout"
        }
      ]
    },
    {
      "cell_type": "code",
      "metadata": {
        "id": "vjjJKsOR5GtF"
      },
      "source": [
        "Charge6 = read_mat('10-29-18_11.15 551_Charge6.mat')\n",
        "Charge6_df= pd.DataFrame(Charge6['meas'])\n",
        "\n",
        "SOC=[]\n",
        "for i in Charge6_df.index:\n",
        "   x= 1 - Charge6_df['Ah'].values[-i]/3\n",
        "   SOC.append(x)\n",
        "#print(SOC)\n",
        "Charge6_df['SOC']= SOC\n",
        "\n",
        "#Creating the Dataframe for Mixed 1 drive cycle\n",
        "Mixed1_25degC = read_mat('10-29-18_14.41 551_Mixed1_25degC_LGHG2.mat')\n",
        "Mixed1_25degC_df= pd.DataFrame(Mixed1_25degC['meas'])\n",
        "\n",
        "#Calculating SOC: In case of Discahrge test, initial SOC is 100%\n",
        "Mixed1_25degC_df['SOC']= 1+ (Mixed1_25degC_df['Ah']/3)\n",
        "\n",
        "\n",
        "#Creating the Dataframe for Charge 7 cycle\n",
        "Charge7 = read_mat('10-29-18_16.50 551_Charge7.mat')\n",
        "Charge7_df= pd.DataFrame(Charge6['meas'])\n",
        "\n",
        "\n",
        "#Calculating SOC: In case of cahrge test, final SOC is 100%\n",
        "SOC=[]\n",
        "for i in Charge7_df.index:\n",
        "   x= 1 - Charge7_df['Ah'].values[-i]/3\n",
        "   SOC.append(x)\n",
        "#print(SOC)\n",
        "Charge7_df['SOC']= SOC\n",
        "\n",
        "#Creating the Dataframe for Mixed 1 drive cycle\n",
        "Mixed2_25degC = read_mat('10-29-18_20.16 551_Mixed2_25degC_LGHG2.mat')\n",
        "Mixed2_25degC_df= pd.DataFrame(Mixed2_25degC['meas'])\n",
        "\n",
        "#Resampling to 1 HZ\n",
        "#Mixed2_25degC_df ['TimeStamp'] = pd.to_datetime(Mixed2_25degC_df['TimeStamp'])\n",
        "#Mixed2_25degC_df.groupby(['Ah']).resample('1000L',on='TimeStamp').mean()\n",
        "\n",
        "#Calculating SOC: In case of Discahrge test, initial SOC is 100%\n",
        "Mixed2_25degC_df['SOC']= 1+(Mixed2_25degC_df['Ah']/3)\n",
        "\n",
        "##########################################################################################################\n",
        "Charge8 = read_mat('10-29-18_22.29 551_Charge8.mat')\n",
        "Charge8_df= pd.DataFrame(Charge8['meas'])\n",
        "\n",
        "SOC=[]\n",
        "for i in Charge8_df.index:\n",
        "   x= 1 - Charge8_df['Ah'].values[-i]/3\n",
        "   SOC.append(x)\n",
        "#print(SOC)\n",
        "Charge8_df['SOC']= SOC\n",
        "\n",
        "#Creating the Dataframe for Mixed 1 drive cycle\n",
        "Cap_1C_25degC = read_mat('10-30-18_01.54 552_Cap_1C_25degC_LGHG2.mat')\n",
        "Cap_1C_25degC_df= pd.DataFrame(Cap_1C_25degC['meas'])\n",
        "\n",
        "#Calculating SOC: In case of Discahrge test, initial SOC is 100%\n",
        "Cap_1C_25degC_df['SOC']= 1+ (Cap_1C_25degC_df['Ah']/3)\n",
        "\n",
        "\n",
        "#Creating the Dataframe for Charge 7 cycle\n",
        "Charge9 = read_mat('10-30-18_03.00 552_Charge9.mat')\n",
        "Charge9_df= pd.DataFrame(Charge9['meas'])\n",
        "\n",
        "\n",
        "#Calculating SOC: In case of cahrge test, final SOC is 100%\n",
        "SOC=[]\n",
        "for i in Charge9_df.index:\n",
        "   x= 1 - Charge9_df['Ah'].values[-i]/3\n",
        "   SOC.append(x)\n",
        "#print(SOC)\n",
        "Charge9_df['SOC']= SOC\n",
        "\n",
        "#Creating the Dataframe for Mixed 1 drive cycle\n",
        "Mixed3_25degC = read_mat('10-30-18_06.27 552_Mixed3_25degC_LGHG2.mat')\n",
        "Mixed3_25degC_df= pd.DataFrame(Mixed3_25degC['meas'])\n",
        "\n",
        "#Resampling to 1 HZ\n",
        "#Mixed2_25degC_df ['TimeStamp'] = pd.to_datetime(Mixed2_25degC_df['TimeStamp'])\n",
        "#Mixed2_25degC_df.groupby(['Ah']).resample('1000L',on='TimeStamp').mean()\n",
        "\n",
        "#Calculating SOC: In case of Discahrge test, initial SOC is 100%\n",
        "Mixed3_25degC_df['SOC']= 1+(Mixed3_25degC_df['Ah']/3)\n",
        "\n",
        "\n",
        "\n",
        "################################################################################\n",
        "Charge10 = read_mat('10-30-18_08.31 552_Charge10.mat')\n",
        "Charge10_df= pd.DataFrame(Charge10['meas'])\n",
        "\n",
        "SOC=[]\n",
        "for i in Charge10_df.index:\n",
        "   x= 1 - Charge6_df['Ah'].values[-i]/3\n",
        "   SOC.append(x)\n",
        "#print(SOC)\n",
        "Charge10_df['SOC']= SOC\n",
        "\n",
        "#Creating the Dataframe for Mixed 1 drive cycle\n",
        "Mixed4_25degC = read_mat('10-30-18_11.56 552_Mixed4_25degC_LGHG2.mat')\n",
        "Mixed4_25degC_df= pd.DataFrame(Mixed4_25degC['meas'])\n",
        "\n",
        "#Calculating SOC: In case of Discahrge test, initial SOC is 100%\n",
        "Mixed4_25degC_df['SOC']= 1+ (Mixed4_25degC_df['Ah']/3)\n",
        "\n",
        "\n",
        "#Creating the Dataframe for Charge 7 cycle\n",
        "Charge11 = read_mat('10-30-18_14.12 552_Charge11.mat')\n",
        "Charge11_df= pd.DataFrame(Charge11['meas'])\n",
        "\n",
        "\n",
        "#Calculating SOC: In case of cahrge test, final SOC is 100%\n",
        "SOC=[]\n",
        "for i in Charge11_df.index:\n",
        "   x= 1 - Charge11_df['Ah'].values[-i]/3\n",
        "   SOC.append(x)\n",
        "#print(SOC)\n",
        "Charge11_df['SOC']= SOC\n",
        "\n",
        "#Creating the Dataframe for Mixed 1 drive cycle\n",
        "Mixed5_25degC = read_mat('10-30-18_17.36 552_Mixed5_25degC_LGHG2.mat')\n",
        "Mixed5_25degC_df= pd.DataFrame(Mixed5_25degC['meas'])\n",
        "\n",
        "#Resampling to 1 HZ\n",
        "#Mixed2_25degC_df ['TimeStamp'] = pd.to_datetime(Mixed2_25degC_df['TimeStamp'])\n",
        "#Mixed2_25degC_df.groupby(['Ah']).resample('1000L',on='TimeStamp').mean()\n",
        "\n",
        "#Calculating SOC: In case of Discahrge test, initial SOC is 100%\n",
        "Mixed5_25degC_df['SOC']= 1+(Mixed5_25degC_df['Ah']/3)\n",
        "\n",
        "\n",
        "\n",
        "###########################################################################\n",
        "Charge12 = read_mat('10-30-18_19.38 552_Charge12.mat')\n",
        "Charge12_df= pd.DataFrame(Charge12['meas'])\n",
        "\n",
        "SOC=[]\n",
        "for i in Charge12_df.index:\n",
        "   x= 1 - Charge12_df['Ah'].values[-i]/3\n",
        "   SOC.append(x)\n",
        "#print(SOC)\n",
        "Charge12_df['SOC']= SOC\n",
        "\n",
        "#Creating the Dataframe for Mixed 1 drive cycle\n",
        "Mixed6_25degC = read_mat('10-30-18_23.02 552_Mixed6_25degC_LGHG2.mat')\n",
        "Mixed6_25degC_df= pd.DataFrame(Mixed6_25degC['meas'])\n",
        "\n",
        "#Calculating SOC: In case of Discahrge test, initial SOC is 100%\n",
        "Mixed6_25degC_df['SOC']= 1+ (Mixed6_25degC_df['Ah']/3)\n",
        "\n",
        "\n",
        "#Creating the Dataframe for Charge 7 cycle\n",
        "Charge13 = read_mat('10-31-18_01.13 552_Charge13.mat')\n",
        "Charge13_df= pd.DataFrame(Charge13['meas'])\n",
        "\n",
        "\n",
        "#Calculating SOC: In case of cahrge test, final SOC is 100%\n",
        "SOC=[]\n",
        "for i in Charge13_df.index:\n",
        "   x= 1 - Charge13_df['Ah'].values[-i]/3\n",
        "   SOC.append(x)\n",
        "#print(SOC)\n",
        "Charge13_df['SOC']= SOC\n",
        "\n",
        "#Creating the Dataframe for Mixed 1 drive cycle\n",
        "Mixed7_25degC = read_mat('10-31-18_04.38 552_Mixed7_25degC_LGHG2.mat')\n",
        "Mixed7_25degC_df= pd.DataFrame(Mixed7_25degC['meas'])\n",
        "\n",
        "#Resampling to 1 HZ\n",
        "#Mixed2_25degC_df ['TimeStamp'] = pd.to_datetime(Mixed2_25degC_df['TimeStamp'])\n",
        "#Mixed2_25degC_df.groupby(['Ah']).resample('1000L',on='TimeStamp').mean()\n",
        "\n",
        "#Calculating SOC: In case of Discahrge test, initial SOC is 100%\n",
        "Mixed7_25degC_df['SOC']= 1+(Mixed7_25degC_df['Ah']/3)\n",
        "\n",
        "\n",
        "\n",
        "\n",
        "###########################################################################\n",
        "Charge14 = read_mat('10-31-18_06.41 552_Charge14.mat')\n",
        "Charge14_df= pd.DataFrame(Charge14['meas'])\n",
        "\n",
        "SOC=[]\n",
        "for i in Charge14_df.index:\n",
        "   x= 1 - Charge14_df['Ah'].values[-i]/3\n",
        "   SOC.append(x)\n",
        "#print(SOC)\n",
        "Charge14_df['SOC']= SOC\n",
        "\n",
        "#Creating the Dataframe for Mixed 1 drive cycle\n",
        "Mixed8_25degC = read_mat('10-31-18_10.05 552_Mixed8_25degC_LGHG2.mat')\n",
        "Mixed8_25degC_df= pd.DataFrame(Mixed8_25degC['meas'])\n",
        "\n",
        "#Calculating SOC: In case of Discahrge test, initial SOC is 100%\n",
        "Mixed8_25degC_df['SOC']= 1+ (Mixed8_25degC_df['Ah']/3)\n",
        "\n",
        "\n",
        "#Creating the Dataframe for Charge 7 cycle\n",
        "Charge15 = read_mat('10-31-18_12.30 552_Charge15.mat')\n",
        "Charge15_df= pd.DataFrame(Charge15['meas'])\n",
        "\n",
        "\n",
        "#Calculating SOC: In case of cahrge test, final SOC is 100%\n",
        "SOC=[]\n",
        "for i in Charge15_df.index:\n",
        "   x= 1 - Charge15_df['Ah'].values[-i]/3\n",
        "   SOC.append(x)\n",
        "#print(SOC)\n",
        "Charge15_df['SOC']= SOC\n",
        "\n",
        "#Creating the Dataframe for Mixed 1 drive cycle\n",
        "PausCycl_25degC = read_mat('10-31-18_15.54 552_PausCycl_25degC_LGHG2.mat')\n",
        "PausCycl_25degC_df= pd.DataFrame(PausCycl_25degC['meas'])\n",
        "\n",
        "#Resampling to 1 HZ\n",
        "#Mixed2_25degC_df ['TimeStamp'] = pd.to_datetime(Mixed2_25degC_df['TimeStamp'])\n",
        "#Mixed2_25degC_df.groupby(['Ah']).resample('1000L',on='TimeStamp').mean()\n",
        "\n",
        "#Calculating SOC: In case of Discahrge test, initial SOC is 100%\n",
        "PausCycl_25degC_df['SOC']= 1+(PausCycl_25degC_df['Ah']/3)\n",
        "\n",
        "\n",
        "#Creating the Dataframe for Charge 7 cycle\n",
        "Charge16 = read_mat('10-31-18_17.41 552_Charge16.mat')\n",
        "Charge16_df= pd.DataFrame(Charge16['meas'])\n",
        "\n",
        "\n",
        "#Calculating SOC: In case of cahrge test, final SOC is 100%\n",
        "SOC=[]\n",
        "for i in Charge16_df.index:\n",
        "   x= 1 - Charge16_df['Ah'].values[-i]/3\n",
        "   SOC.append(x)\n",
        "#print(SOC)\n",
        "Charge16_df['SOC']= SOC\n",
        "\n",
        "\n",
        "\n"
      ],
      "execution_count": 7,
      "outputs": []
    },
    {
      "cell_type": "code",
      "metadata": {
        "id": "dp1rZKfUqi2X"
      },
      "source": [
        "train_data= [Charge6_df,Mixed1_25degC_df,Charge7_df,Mixed2_25degC_df,Charge8_df, Cap_1C_25degC_df  ,Charge9_df,Mixed3_25degC_df,Charge10_df,Mixed4_25degC_df,Charge11_df,Mixed5_25degC_df,Charge12_df,Mixed6_25degC_df,Charge13_df,Mixed7_25degC_df,Charge14_df,Mixed8_25degC_df,Charge15_df,PausCycl_25degC_df,Charge16_df]\n",
        "train_data=pd.concat(train_data)\n",
        "train_data['TimeStamp']= pd.to_datetime(train_data['TimeStamp'],infer_datetime_format=True)"
      ],
      "execution_count": 9,
      "outputs": []
    },
    {
      "cell_type": "code",
      "metadata": {
        "id": "8O5D7fe0qi5W",
        "outputId": "444aabb6-6bf5-430a-90bc-50818c02a4dc",
        "colab": {
          "base_uri": "https://localhost:8080/"
        }
      },
      "source": [
        "train_data.info()"
      ],
      "execution_count": 10,
      "outputs": [
        {
          "output_type": "stream",
          "text": [
            "<class 'pandas.core.frame.DataFrame'>\n",
            "Int64Index: 686154 entries, 0 to 127\n",
            "Data columns (total 9 columns):\n",
            " #   Column             Non-Null Count   Dtype         \n",
            "---  ------             --------------   -----         \n",
            " 0   Time               686154 non-null  float64       \n",
            " 1   TimeStamp          686154 non-null  datetime64[ns]\n",
            " 2   Voltage            686154 non-null  float64       \n",
            " 3   Current            686154 non-null  float64       \n",
            " 4   Ah                 686154 non-null  float64       \n",
            " 5   Wh                 686154 non-null  uint8         \n",
            " 6   Power              686154 non-null  float64       \n",
            " 7   Battery_Temp_degC  686154 non-null  float64       \n",
            " 8   SOC                686154 non-null  float64       \n",
            "dtypes: datetime64[ns](1), float64(7), uint8(1)\n",
            "memory usage: 47.8 MB\n"
          ],
          "name": "stdout"
        }
      ]
    },
    {
      "cell_type": "code",
      "metadata": {
        "id": "1dNn1_Dv6NxF"
      },
      "source": [
        "train_data[['Time','TimeStamp', 'Voltage', 'Current','Battery_Temp_degC', 'Ah', 'SOC']]"
      ],
      "execution_count": null,
      "outputs": []
    },
    {
      "cell_type": "code",
      "metadata": {
        "id": "Po-gQAnPtcZB"
      },
      "source": [
        "train_data.set_index('TimeStamp')[['SOC', 'Voltage', 'Current','Battery_Temp_degC']].plot(subplots=True)"
      ],
      "execution_count": null,
      "outputs": []
    },
    {
      "cell_type": "code",
      "metadata": {
        "id": "Lw6yjwlo8vbp"
      },
      "source": [
        "print (\"Rows     : \" ,train_data.shape[0])\n",
        "print (\"Columns  : \" ,train_data.shape[1])\n",
        "print (\"\\nFeatures : \\n\" ,train_data.columns.tolist())\n",
        "print (\"\\nMissing values :  \", train_data.isnull().any())\n",
        "print (\"\\nUnique values :  \\n\",train_data.nunique())"
      ],
      "execution_count": null,
      "outputs": []
    },
    {
      "cell_type": "code",
      "metadata": {
        "id": "XIW2OcHj85ZG"
      },
      "source": [
        "train_data.query('SOC != SOC') #to find the missing values"
      ],
      "execution_count": null,
      "outputs": []
    },
    {
      "cell_type": "code",
      "metadata": {
        "id": "sqTHQj-yCa0D"
      },
      "source": [
        "#train_data['Voltage']=train_data['Voltage'].fillna(method='ffill')\n",
        "#train_data['Current']=train_data['Current'].fillna(method='ffill')\n",
        "#train_data['Battery_Temp_degC']=train_data['Battery_Temp_degC'].fillna(method='ffill')"
      ],
      "execution_count": null,
      "outputs": []
    },
    {
      "cell_type": "code",
      "metadata": {
        "id": "voCCWtpkCv18"
      },
      "source": [
        "print (\"\\nMissing values :  \", train_data.isnull().any())"
      ],
      "execution_count": null,
      "outputs": []
    },
    {
      "cell_type": "code",
      "metadata": {
        "id": "AThhrlcd6NrC"
      },
      "source": [
        "train_data.set_index('TimeStamp')[['SOC', 'Voltage', 'Current','Battery_Temp_degC']].plot(subplots=True)"
      ],
      "execution_count": null,
      "outputs": []
    },
    {
      "cell_type": "code",
      "metadata": {
        "id": "V76VXOds6NiE"
      },
      "source": [
        "train_data.resample('1000L', on='TimeStamp').mean()"
      ],
      "execution_count": null,
      "outputs": []
    },
    {
      "cell_type": "code",
      "metadata": {
        "id": "MIM0RoVMxvD4"
      },
      "source": [
        "print(train_data)"
      ],
      "execution_count": null,
      "outputs": []
    },
    {
      "cell_type": "code",
      "metadata": {
        "id": "kBIR2g5f_LlC"
      },
      "source": [
        "train_data_sampled= train_data.resample('1000L', on='TimeStamp').mean()"
      ],
      "execution_count": null,
      "outputs": []
    },
    {
      "cell_type": "code",
      "metadata": {
        "id": "wLGO5bak1ZqX"
      },
      "source": [
        "print(train_data_sampled)"
      ],
      "execution_count": null,
      "outputs": []
    },
    {
      "cell_type": "code",
      "metadata": {
        "id": "_v8TdbcNlmR1"
      },
      "source": [
        "!pip install pmdarima"
      ],
      "execution_count": null,
      "outputs": []
    },
    {
      "cell_type": "code",
      "metadata": {
        "id": "0Pu6j1nCgYgn"
      },
      "source": [
        "import pmdarima as pm\n",
        "\n",
        "model = pm.auto_arima(ny_df_monthly['demand'], \n",
        "                        m=12, seasonal=True,\n",
        "                      start_p=0, start_q=0, max_order=4, test='adf',error_action='ignore',  \n",
        "                           suppress_warnings=True,\n",
        "                      stepwise=True, trace=True)"
      ],
      "execution_count": null,
      "outputs": []
    },
    {
      "cell_type": "code",
      "metadata": {
        "id": "pNfnRt5C9vvT"
      },
      "source": [
        "model.summary()"
      ],
      "execution_count": null,
      "outputs": []
    },
    {
      "cell_type": "code",
      "metadata": {
        "id": "TV1vPF94VZsW"
      },
      "source": [
        "ny_df_monthly"
      ],
      "execution_count": null,
      "outputs": []
    },
    {
      "cell_type": "code",
      "metadata": {
        "id": "DKMs619mVTZD"
      },
      "source": [
        "train=ny_df_monthly[(ny_df_monthly.index.get_level_values(0) >= '2012-01-31') & (ny_df_monthly.index.get_level_values(0) <= '2017-04-30')]\n",
        "test=ny_df_monthly[(ny_df_monthly.index.get_level_values(0) > '2017-04-30')]"
      ],
      "execution_count": null,
      "outputs": []
    },
    {
      "cell_type": "code",
      "metadata": {
        "id": "v5rPvR6MIa6O"
      },
      "source": [
        "test"
      ],
      "execution_count": null,
      "outputs": []
    },
    {
      "cell_type": "code",
      "metadata": {
        "id": "weRCaFD6VTNK"
      },
      "source": [
        "test.shape"
      ],
      "execution_count": null,
      "outputs": []
    },
    {
      "cell_type": "code",
      "metadata": {
        "id": "mT3hxWT4V57S"
      },
      "source": [
        "model.fit(train['demand'])"
      ],
      "execution_count": null,
      "outputs": []
    },
    {
      "cell_type": "code",
      "metadata": {
        "id": "_wzQTJjdV55P"
      },
      "source": [
        "forecast=model.predict(n_periods=4, return_conf_int=True)"
      ],
      "execution_count": null,
      "outputs": []
    },
    {
      "cell_type": "code",
      "metadata": {
        "id": "S1k0MK4yV50e"
      },
      "source": [
        "forecast"
      ],
      "execution_count": null,
      "outputs": []
    },
    {
      "cell_type": "code",
      "metadata": {
        "id": "iBMOEsrIWR-Q"
      },
      "source": [
        "forecast_df = pd.DataFrame(forecast[0],index = test.index,columns=['Prediction'])"
      ],
      "execution_count": null,
      "outputs": []
    },
    {
      "cell_type": "code",
      "metadata": {
        "id": "y6vUMDKMXW-I"
      },
      "source": [
        "forecast_df"
      ],
      "execution_count": null,
      "outputs": []
    },
    {
      "cell_type": "code",
      "metadata": {
        "id": "qgYNVf5nWR3U"
      },
      "source": [
        "pd.concat([ny_df_monthly['demand'],forecast_df],axis=1).plot()"
      ],
      "execution_count": null,
      "outputs": []
    },
    {
      "cell_type": "code",
      "metadata": {
        "id": "ZFZphZ1RVqZ0"
      },
      "source": [
        "forecast1=model.predict(n_periods=8, return_conf_int=True)"
      ],
      "execution_count": null,
      "outputs": []
    },
    {
      "cell_type": "code",
      "metadata": {
        "id": "ZFD02G4oVqWK"
      },
      "source": [
        "forecast1"
      ],
      "execution_count": null,
      "outputs": []
    },
    {
      "cell_type": "code",
      "metadata": {
        "id": "O9C3jzvaVqTg"
      },
      "source": [
        "forecast_range=pd.date_range(start='2017-05-31', periods=8,freq='M')"
      ],
      "execution_count": null,
      "outputs": []
    },
    {
      "cell_type": "code",
      "metadata": {
        "id": "Lt3SY-i1VqQs"
      },
      "source": [
        "forecast1_df = pd.DataFrame(forecast1[0],index =forecast_range,columns=['Prediction'])"
      ],
      "execution_count": null,
      "outputs": []
    },
    {
      "cell_type": "code",
      "metadata": {
        "id": "fPwiDPsgVqNj"
      },
      "source": [
        "pd.concat([ny_df_monthly['demand'],forecast1_df],axis=1).plot()"
      ],
      "execution_count": null,
      "outputs": []
    },
    {
      "cell_type": "code",
      "metadata": {
        "id": "uupHyI620P9W"
      },
      "source": [
        "lower=pd.Series(forecast1[1][:, 0], index =forecast_range)\n",
        "upper=pd.Series(forecast1[1][:, 1], index =forecast_range)"
      ],
      "execution_count": null,
      "outputs": []
    },
    {
      "cell_type": "code",
      "metadata": {
        "id": "FtL4A02w04PC"
      },
      "source": [
        "plt.plot(ny_df_monthly['demand'])\n",
        "plt.plot(forecast1_df, color='darkgreen')\n",
        "plt.fill_between(forecast_range, \n",
        "                 lower, \n",
        "                 upper, \n",
        "                 color='k', alpha=.15)"
      ],
      "execution_count": null,
      "outputs": []
    },
    {
      "cell_type": "code",
      "metadata": {
        "id": "Rk8lof0djxRA"
      },
      "source": [
        "out=model.plot_diagnostics()"
      ],
      "execution_count": null,
      "outputs": []
    },
    {
      "cell_type": "code",
      "metadata": {
        "id": "MBYeIfg3S4Jf"
      },
      "source": [
        ""
      ],
      "execution_count": null,
      "outputs": []
    },
    {
      "cell_type": "code",
      "metadata": {
        "id": "EwbOQvs8S4F2"
      },
      "source": [
        ""
      ],
      "execution_count": null,
      "outputs": []
    },
    {
      "cell_type": "code",
      "metadata": {
        "id": "u5rXNxBGS4DV"
      },
      "source": [
        ""
      ],
      "execution_count": null,
      "outputs": []
    },
    {
      "cell_type": "code",
      "metadata": {
        "id": "T-dosfiBS4BQ"
      },
      "source": [
        ""
      ],
      "execution_count": null,
      "outputs": []
    },
    {
      "cell_type": "code",
      "metadata": {
        "id": "gPBrJWV2S39A"
      },
      "source": [
        ""
      ],
      "execution_count": null,
      "outputs": []
    },
    {
      "cell_type": "code",
      "metadata": {
        "id": "NFttoob9S36a"
      },
      "source": [
        ""
      ],
      "execution_count": null,
      "outputs": []
    },
    {
      "cell_type": "code",
      "metadata": {
        "id": "RbAgXqvFS333"
      },
      "source": [
        ""
      ],
      "execution_count": null,
      "outputs": []
    },
    {
      "cell_type": "code",
      "metadata": {
        "id": "j0p2f7_1S3zq"
      },
      "source": [
        ""
      ],
      "execution_count": null,
      "outputs": []
    },
    {
      "cell_type": "code",
      "metadata": {
        "id": "MXoPiK_RS3xm"
      },
      "source": [
        ""
      ],
      "execution_count": null,
      "outputs": []
    },
    {
      "cell_type": "code",
      "metadata": {
        "id": "ShTOhPzWS3to"
      },
      "source": [
        ""
      ],
      "execution_count": null,
      "outputs": []
    },
    {
      "cell_type": "code",
      "metadata": {
        "id": "1Ao4g723S3q1"
      },
      "source": [
        ""
      ],
      "execution_count": null,
      "outputs": []
    },
    {
      "cell_type": "code",
      "metadata": {
        "id": "iTuDftGXS3nw"
      },
      "source": [
        ""
      ],
      "execution_count": null,
      "outputs": []
    },
    {
      "cell_type": "code",
      "metadata": {
        "id": "l1ywXHjDS3l0"
      },
      "source": [
        ""
      ],
      "execution_count": null,
      "outputs": []
    },
    {
      "cell_type": "code",
      "metadata": {
        "id": "Gnbpi_2ES3i_"
      },
      "source": [
        ""
      ],
      "execution_count": null,
      "outputs": []
    },
    {
      "cell_type": "code",
      "metadata": {
        "id": "X3opBuWpS3fE"
      },
      "source": [
        ""
      ],
      "execution_count": null,
      "outputs": []
    },
    {
      "cell_type": "code",
      "metadata": {
        "id": "iPc-azaeS3cN"
      },
      "source": [
        ""
      ],
      "execution_count": null,
      "outputs": []
    },
    {
      "cell_type": "code",
      "metadata": {
        "id": "k_OVMIKdS3ZL"
      },
      "source": [
        ""
      ],
      "execution_count": null,
      "outputs": []
    },
    {
      "cell_type": "code",
      "metadata": {
        "id": "WZbkrjgdS3TP"
      },
      "source": [
        ""
      ],
      "execution_count": null,
      "outputs": []
    }
  ]
}